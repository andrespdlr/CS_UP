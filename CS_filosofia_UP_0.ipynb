{
 "cells": [
  {
   "cell_type": "markdown",
   "metadata": {},
   "source": [
    "# Métodos Computacionales para Filósofos [en Python]\n",
    "### by Andres PDLR - Entropy"
   ]
  },
  {
   "cell_type": "markdown",
   "metadata": {},
   "source": [
    "<img src=\"https://www.up.edu.mx/manualgrafico/images/img_A/logoup_Vc.jpg\" width=200>"
   ]
  },
  {
   "cell_type": "markdown",
   "metadata": {},
   "source": [
    "    Basado en el curso:\n",
    "        * Métodos Computacionales para Ciencias Sociales [en Python] *    \n",
    "        by:\n",
    "\n",
    "        - Manuel Aragonés Mora              m@dive.ai\n",
    "        - Andrés Ponce de León Rosas        ap@entropia.ai | andresponcedeleonrosas@gmail.com\n",
    "    \n",
    "    Inspiration: notes from The University of Chicago CS121 course\n",
    "    \n",
    "    \n",
    "    https://petermattia.com/articles/2017/10/14/kevin-bacon-and-wikipedia.html\n",
    "    https://en.m.wikipedia.org/wiki/Wikipedia:Getting_to_Philosophy\n",
    "    https://xefer.com/wikipedia"
   ]
  },
  {
   "cell_type": "markdown",
   "metadata": {},
   "source": [
    "# Computer Science"
   ]
  },
  {
   "cell_type": "markdown",
   "metadata": {},
   "source": [
    "<img src=\"http://www.azquotes.com/picture-quotes/quote-computer-science-is-no-more-about-computers-than-astronomy-is-about-telescopes-edsger-dijkstra-7-85-17.jpg\"\n",
    "width=800>"
   ]
  },
  {
   "cell_type": "markdown",
   "metadata": {},
   "source": [
    "                                                            \"Computer science is the study of computation\n",
    "                                                             what can be computed and how to compute it.\"\n",
    "\n",
    "                                                                                      - Jeannette M. Wing"
   ]
  },
  {
   "cell_type": "markdown",
   "metadata": {},
   "source": [
    "<div class=\"alert alert-info\" role=\"alert\">\n",
    "  <strong>PENSAMIENTO COMPUTACIONAL COMO HABILIDAD FUNDAMENTAL:</strong>\n",
    "  <hr>\n",
    "  - Reading\n",
    "  <hr>\n",
    "  - Writing\n",
    "  <hr>\n",
    "  - Arithmetic\n",
    "  <hr>\n",
    "  + Computational thinking\n",
    "</div>\n",
    "<div class=\"alert alert-warning\" role=\"alert\">\n",
    "  <strong>NOS PERMITE:</strong> \n",
    "  <hr>\n",
    "  - Solve problems\n",
    "  <hr>\n",
    "  - Design systems\n",
    "  <hr>\n",
    "  - Understand human behavior\n",
    "  <hr>\n",
    "  - Entender al Ser    \n",
    "</div>\n",
    "<div class=\"alert alert-danger\" role=\"alert\">\n",
    "  <strong>DESARROLLA HERRAMIENTAS DE PENSAMIENTO COMPLEJO:</strong>\n",
    "  <hr>\n",
    "  - Fragmentation\n",
    "  <hr>\n",
    "  - Simulation\n",
    "  <hr>\n",
    "  - Transformation\n",
    "</div>\n",
    "<div class=\"alert alert-success\" role=\"alert\">\n",
    "  <strong>CREA UN MINDSET INTEGRADO DE EFICIENCIA Y ESTÉTICA::</strong>\n",
    "  <hr>\n",
    "  - Recursion\n",
    "  <hr>\n",
    "  - Distributed & parallel processing\n",
    "  <hr>\n",
    "  - Correctness + efficiency + **aesthetics**\n",
    "  <hr>\n",
    "  - Modularity\n",
    "</div>"
   ]
  },
  {
   "cell_type": "markdown",
   "metadata": {},
   "source": [
    "<img src=\"https://cdn.theatlantic.com/assets/media/img/posts/fall-enrollment-figures-at-harvard-college-intro-to-economics-intro-to-computer-science_chartbuilder.png\" width=800>"
   ]
  },
  {
   "cell_type": "markdown",
   "metadata": {},
   "source": [
    "<img src=\"http://www.azquotes.com/picture-quotes/quote-it-from-bit-symbolizes-the-idea-that-every-item-of-the-physical-world-has-at-bottom-john-archibald-wheeler-71-21-55.jpg\" width=800>"
   ]
  },
  {
   "cell_type": "markdown",
   "metadata": {},
   "source": [
    "<img src=\"https://images-na.ssl-images-amazon.com/images/I/51E-m-ll7yL._SX326_BO1,204,203,200_.jpg\" width=300>    "
   ]
  },
  {
   "cell_type": "markdown",
   "metadata": {},
   "source": [
    "<img src=\"uchicago_capp_motto.jpg\" width=800>"
   ]
  },
  {
   "cell_type": "markdown",
   "metadata": {},
   "source": [
    "# Python"
   ]
  },
  {
   "cell_type": "markdown",
   "metadata": {},
   "source": [
    "<img src=\"https://upload.wikimedia.org/wikipedia/commons/thumb/6/66/Guido_van_Rossum_OSCON_2006.jpg/800px-Guido_van_Rossum_OSCON_2006.jpg\" width=300>"
   ]
  },
  {
   "cell_type": "markdown",
   "metadata": {},
   "source": [
    "<img src=\"https://upload.wikimedia.org/wikipedia/en/c/cb/Flyingcircus_2.jpg\">"
   ]
  },
  {
   "cell_type": "markdown",
   "metadata": {},
   "source": [
    "<img src=\"https://donjayamanne.gallerycdn.vsassets.io/extensions/donjayamanne/jupyter/1.1.3/1493992150869/Microsoft.VisualStudio.Services.Icons.Default\">"
   ]
  },
  {
   "cell_type": "markdown",
   "metadata": {},
   "source": [
    "# Data Science"
   ]
  },
  {
   "cell_type": "markdown",
   "metadata": {},
   "source": [
    "<img src=\"http://static1.squarespace.com/static/54022945e4b02005531a9c9e/t/54fc82ffe4b0c724169fe392/1425834751943/?format=1500w\" width=500>"
   ]
  },
  {
   "cell_type": "markdown",
   "metadata": {},
   "source": [
    "# Ciencia Computacional y Filosofía\n",
    "    http://www.philocomp.net/programming.htm\n",
    "    https://www.cnbc.com/2018/02/20/mark-cuban-philosophy-degree-will-be-worth-more-than-computer-science.html"
   ]
  },
  {
   "cell_type": "markdown",
   "metadata": {},
   "source": [
    "<img src=\"https://drunksandlampposts.files.wordpress.com/2012/06/philgraph1-e1340267452792.png\"  width=750>"
   ]
  },
  {
   "cell_type": "markdown",
   "metadata": {},
   "source": [
    "# Algoritmos\n",
    "    Definición: Conjunto de instrucciones para resolver un problema (step by step)."
   ]
  },
  {
   "cell_type": "markdown",
   "metadata": {},
   "source": [
    "<img src=\"data:image/png;base64,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\" width=500>    "
   ]
  },
  {
   "cell_type": "markdown",
   "metadata": {},
   "source": [
    "<img src=\"data:image/png;base64,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\" width=500>"
   ]
  },
  {
   "cell_type": "markdown",
   "metadata": {},
   "source": [
    "<img src=\"claridad_algoritmos.png\" width=1000>"
   ]
  },
  {
   "cell_type": "markdown",
   "metadata": {},
   "source": [
    "# Eficiencia - Time Complexity - bigO Notation"
   ]
  },
  {
   "cell_type": "markdown",
   "metadata": {},
   "source": [
    "     Polynomial (P):\n",
    "     ----------------\n",
    "     - linear\n",
    "     - log\n",
    "     - exponential\n",
    "\n",
    "     Non-polynomial Deterministic (NP):\n",
    "     ---------------------------------\n",
    "     - sudoku\n",
    "     - Public-key crypto\n",
    "     \n",
    "     NOT P or NP:\n",
    "     ------------\n",
    "     - chess\n",
    "     - tetris\n",
    "     - halting problem\n",
    "     \n",
    "     1971. P vs NP"
   ]
  },
  {
   "cell_type": "markdown",
   "metadata": {},
   "source": [
    "<img src=\"funciones.png\" width=1000>"
   ]
  },
  {
   "cell_type": "markdown",
   "metadata": {},
   "source": [
    "<img src=\"https://cdn-images-1.medium.com/max/800/1*5hGX6TN4bUEZX0FpMxZHfQ.png\" width=1000>"
   ]
  },
  {
   "cell_type": "markdown",
   "metadata": {},
   "source": [
    "# Ejemplo: Algoritmo Contar Personas\n",
    "### Problema: contar a todas las personas en la tierra\n",
    "<img src=\"https://countingsoftware.biz/images/index09.png\">"
   ]
  },
  {
   "cell_type": "code",
   "execution_count": 116,
   "metadata": {},
   "outputs": [],
   "source": [
    "total_personas = 7000000000"
   ]
  },
  {
   "cell_type": "code",
   "execution_count": 122,
   "metadata": {},
   "outputs": [],
   "source": [
    "chunks = 5\n",
    "segundos_por_cuenta = .1"
   ]
  },
  {
   "cell_type": "code",
   "execution_count": 123,
   "metadata": {},
   "outputs": [
    {
     "name": "stdout",
     "output_type": "stream",
     "text": [
      "Contar 7000000000 personas de 5 en 5 tomaría 4.44  años\n",
      "El número final de pasos necesarios es :  1400000000.0\n"
     ]
    }
   ],
   "source": [
    "total_cuentas = total_personas / chunks\n",
    "segundos = total_cuentas * segundos_por_cuenta\n",
    "minutos = segundos / 60\n",
    "horas = minutos / 60\n",
    "dias = horas / 24\n",
    "años = round(dias / 365, 2)\n",
    "print('Contar', total_personas, 'personas', 'de {} en {}'.format(chunks, chunks), 'tomaría {} '.format(años), 'años')\n",
    "print('El número final de pasos necesarios es : ', total_cuentas)"
   ]
  },
  {
   "cell_type": "code",
   "execution_count": 124,
   "metadata": {},
   "outputs": [
    {
     "name": "stdout",
     "output_type": "stream",
     "text": [
      "mins:  1667.0 hrs:  28.0 dias:  1.0\n"
     ]
    }
   ],
   "source": [
    "segundos_por_paso = 100000\n",
    "minutos_por_paso = round(segundos_por_paso / 60, 0)\n",
    "horas_por_paso = round(minutos_por_paso / 60, 0)\n",
    "dias_por_paso = round(horas_por_paso / 24, 0)\n",
    "print('mins: ', minutos_por_paso, 'hrs: ', horas_por_paso, 'dias: ', dias_por_paso)"
   ]
  },
  {
   "cell_type": "code",
   "execution_count": 125,
   "metadata": {},
   "outputs": [],
   "source": [
    "def pasos(numero_de_personas):\n",
    "    numero_de_pasos = 0\n",
    "    numero_de_personas_por_contar = numero_de_personas\n",
    "    while numero_de_personas != 1:\n",
    "        if numero_de_personas % 2 == 0:\n",
    "            numero_de_personas = numero_de_personas / 2\n",
    "        else:\n",
    "            numero_de_personas = (numero_de_personas + 1) / 2\n",
    "        numero_de_pasos += 1\n",
    "    segundos = numero_de_pasos * segundos_por_paso\n",
    "    minutos = segundos / 60\n",
    "    horas = minutos / 60\n",
    "    dias = horas / 24\n",
    "    años = round(dias / 365, 2)\n",
    "    if horas <= 24:\n",
    "        print('Contar', numero_de_personas_por_contar, 'personas', 'tomaría {} '.format(horas), 'horas')\n",
    "    elif horas > 24 and dias <= 365:\n",
    "        print('Contar', numero_de_personas_por_contar, 'personas', 'tomaría {} '.format(dias), 'dias')\n",
    "    else:\n",
    "        print('Contar', numero_de_personas_por_contar, 'personas', 'tomaría {} '.format(años), 'años')\n",
    "    print('El número final de pasos necesarios es : ', numero_de_pasos)"
   ]
  },
  {
   "cell_type": "code",
   "execution_count": 126,
   "metadata": {},
   "outputs": [
    {
     "name": "stdout",
     "output_type": "stream",
     "text": [
      "Contar 7000000000 personas tomaría 38.19444444444444  dias\n",
      "El número final de pasos necesarios es :  33\n"
     ]
    }
   ],
   "source": [
    "pasos(total_personas)"
   ]
  },
  {
   "cell_type": "markdown",
   "metadata": {},
   "source": [
    "# Binario"
   ]
  },
  {
   "cell_type": "markdown",
   "metadata": {},
   "source": [
    "<img src=\"https://i.imgur.com/zzyXX5m.png\">"
   ]
  },
  {
   "cell_type": "markdown",
   "metadata": {},
   "source": [
    "<img src=\"https://upload.wikimedia.org/wikipedia/commons/e/e2/Crawl_on_Wikipedia_from_random_article_to_Philosophy..gif\">"
   ]
  },
  {
   "cell_type": "markdown",
   "metadata": {},
   "source": [
    "<img src=\"https://upload.wikimedia.org/wikipedia/commons/9/92/Getting_to_Philosophy_graph_of_Wikipedia_articles_by_Pine.png\">"
   ]
  },
  {
   "cell_type": "markdown",
   "metadata": {},
   "source": [
    "# Introducción a ipython y Jupyter\n",
    "    Recomendación: https://www.youtube.com/watch?v=Rc4JQWowG5I"
   ]
  },
  {
   "cell_type": "markdown",
   "metadata": {},
   "source": [
    "<img src=\"https://ipython.org/_static/ipy_0.13.png\">"
   ]
  },
  {
   "cell_type": "markdown",
   "metadata": {},
   "source": [
    "<img src=\"https://donjayamanne.gallerycdn.vsassets.io/extensions/donjayamanne/jupyter/1.1.3/1493992150869/Microsoft.VisualStudio.Services.Icons.Default\">"
   ]
  },
  {
   "cell_type": "markdown",
   "metadata": {},
   "source": [
    "# Titulo\n",
    "## Subtitulo\n",
    "### Seccion\n",
    "#### ..."
   ]
  },
  {
   "cell_type": "markdown",
   "metadata": {},
   "source": [
    "# print('Hello World!')"
   ]
  },
  {
   "cell_type": "markdown",
   "metadata": {},
   "source": [
    "https://excelwithbusiness.com/blog/say-hello-world-in-28-different-programming-languages/"
   ]
  },
  {
   "cell_type": "code",
   "execution_count": 137,
   "metadata": {},
   "outputs": [
    {
     "name": "stdout",
     "output_type": "stream",
     "text": [
      "Hello world!\n"
     ]
    }
   ],
   "source": [
    "print('Hello world!')"
   ]
  },
  {
   "cell_type": "code",
   "execution_count": 142,
   "metadata": {},
   "outputs": [],
   "source": [
    "saludo='¡Hola mundo!'"
   ]
  },
  {
   "cell_type": "code",
   "execution_count": 139,
   "metadata": {},
   "outputs": [
    {
     "name": "stdout",
     "output_type": "stream",
     "text": [
      "¡Hola mundo!\n"
     ]
    }
   ],
   "source": [
    "print(saludo)"
   ]
  },
  {
   "cell_type": "code",
   "execution_count": 32,
   "metadata": {},
   "outputs": [
    {
     "name": "stdout",
     "output_type": "stream",
     "text": [
      "¡Hola UP!\n"
     ]
    }
   ],
   "source": [
    "saludo = '¡Hola {}!'\n",
    "print(legend.format('UP'))"
   ]
  },
  {
   "cell_type": "code",
   "execution_count": 148,
   "metadata": {},
   "outputs": [
    {
     "name": "stdout",
     "output_type": "stream",
     "text": [
      "¿cómo te llamas? andres\n"
     ]
    }
   ],
   "source": [
    "nombre = input('¿cómo te llamas? ')"
   ]
  },
  {
   "cell_type": "code",
   "execution_count": 149,
   "metadata": {},
   "outputs": [
    {
     "data": {
      "text/plain": [
       "'andres'"
      ]
     },
     "execution_count": 149,
     "metadata": {},
     "output_type": "execute_result"
    }
   ],
   "source": [
    "nombre"
   ]
  },
  {
   "cell_type": "code",
   "execution_count": 151,
   "metadata": {},
   "outputs": [
    {
     "name": "stdout",
     "output_type": "stream",
     "text": [
      "¿cómo te llamas? 2929292\n",
      "hola 2929292\n"
     ]
    }
   ],
   "source": [
    "nombre = input('¿cómo te llamas? ')\n",
    "print('hola ' + nombre)"
   ]
  },
  {
   "cell_type": "code",
   "execution_count": 156,
   "metadata": {},
   "outputs": [
    {
     "name": "stdout",
     "output_type": "stream",
     "text": [
      "¿cuántos años tienes? 35\n",
      "hola 35\n"
     ]
    }
   ],
   "source": [
    "edad = input('¿cuántos años tienes? ')\n",
    "print('hola ' + edad)"
   ]
  },
  {
   "cell_type": "markdown",
   "metadata": {},
   "source": [
    "# >> Tarea: crear un programa que pregunte la edad y regrese el año en que naciste (3 líneas de código)"
   ]
  },
  {
   "cell_type": "markdown",
   "metadata": {},
   "source": [
    "# Types"
   ]
  },
  {
   "cell_type": "code",
   "execution_count": 184,
   "metadata": {},
   "outputs": [],
   "source": [
    "a = 1\n",
    "b = 1.9898383020\n",
    "c = '1'"
   ]
  },
  {
   "cell_type": "code",
   "execution_count": 158,
   "metadata": {},
   "outputs": [
    {
     "name": "stdout",
     "output_type": "stream",
     "text": [
      "1 1.0 1 1\n"
     ]
    }
   ],
   "source": [
    "print(a, b, c, d)"
   ]
  },
  {
   "cell_type": "code",
   "execution_count": 185,
   "metadata": {
    "scrolled": true
   },
   "outputs": [],
   "source": [
    "bint = int(b)"
   ]
  },
  {
   "cell_type": "code",
   "execution_count": 186,
   "metadata": {},
   "outputs": [
    {
     "data": {
      "text/plain": [
       "1"
      ]
     },
     "execution_count": 186,
     "metadata": {},
     "output_type": "execute_result"
    }
   ],
   "source": [
    "bint"
   ]
  },
  {
   "cell_type": "code",
   "execution_count": 171,
   "metadata": {},
   "outputs": [
    {
     "data": {
      "text/plain": [
       "1.0"
      ]
     },
     "execution_count": 171,
     "metadata": {},
     "output_type": "execute_result"
    }
   ],
   "source": [
    "cfloat"
   ]
  },
  {
   "cell_type": "code",
   "execution_count": null,
   "metadata": {
    "collapsed": true
   },
   "outputs": [],
   "source": [
    "andres = 2"
   ]
  },
  {
   "cell_type": "code",
   "execution_count": 187,
   "metadata": {},
   "outputs": [
    {
     "name": "stdout",
     "output_type": "stream",
     "text": [
      "<class 'int'>\n",
      "<class 'str'>\n",
      "<class 'float'>\n"
     ]
    }
   ],
   "source": [
    "print(type(a))\n",
    "print(type(c))\n",
    "print(type(b))"
   ]
  },
  {
   "cell_type": "code",
   "execution_count": 67,
   "metadata": {},
   "outputs": [
    {
     "data": {
      "text/plain": [
       "'1'"
      ]
     },
     "execution_count": 67,
     "metadata": {},
     "output_type": "execute_result"
    }
   ],
   "source": [
    "a_str = str(a) # asignado a una variable\n",
    "a_str"
   ]
  },
  {
   "cell_type": "code",
   "execution_count": 68,
   "metadata": {},
   "outputs": [
    {
     "data": {
      "text/plain": [
       "1.0"
      ]
     },
     "execution_count": 68,
     "metadata": {},
     "output_type": "execute_result"
    }
   ],
   "source": [
    "float(c)"
   ]
  },
  {
   "cell_type": "code",
   "execution_count": 69,
   "metadata": {},
   "outputs": [
    {
     "data": {
      "text/plain": [
       "1"
      ]
     },
     "execution_count": 69,
     "metadata": {},
     "output_type": "execute_result"
    }
   ],
   "source": [
    "int(c)"
   ]
  },
  {
   "cell_type": "code",
   "execution_count": 70,
   "metadata": {},
   "outputs": [
    {
     "ename": "ValueError",
     "evalue": "invalid literal for int() with base 10: 'andres'",
     "output_type": "error",
     "traceback": [
      "\u001b[1;31m---------------------------------------------------------------------------\u001b[0m",
      "\u001b[1;31mValueError\u001b[0m                                Traceback (most recent call last)",
      "\u001b[1;32m<ipython-input-70-fa7590bc57a1>\u001b[0m in \u001b[0;36m<module>\u001b[1;34m\u001b[0m\n\u001b[1;32m----> 1\u001b[1;33m \u001b[0mint\u001b[0m\u001b[1;33m(\u001b[0m\u001b[1;34m'andres'\u001b[0m\u001b[1;33m)\u001b[0m\u001b[1;33m\u001b[0m\u001b[1;33m\u001b[0m\u001b[0m\n\u001b[0m",
      "\u001b[1;31mValueError\u001b[0m: invalid literal for int() with base 10: 'andres'"
     ]
    }
   ],
   "source": [
    "int('andres')"
   ]
  },
  {
   "cell_type": "markdown",
   "metadata": {},
   "source": [
    "# Operaciones aritméticas"
   ]
  },
  {
   "cell_type": "code",
   "execution_count": 188,
   "metadata": {},
   "outputs": [],
   "source": [
    "n = 16\n",
    "m = 5"
   ]
  },
  {
   "cell_type": "code",
   "execution_count": 189,
   "metadata": {},
   "outputs": [
    {
     "data": {
      "text/plain": [
       "21"
      ]
     },
     "execution_count": 189,
     "metadata": {},
     "output_type": "execute_result"
    }
   ],
   "source": [
    "# suma y concatenación\n",
    "n + m"
   ]
  },
  {
   "cell_type": "code",
   "execution_count": 192,
   "metadata": {},
   "outputs": [],
   "source": [
    "# resta\n",
    "resta = n - m"
   ]
  },
  {
   "cell_type": "code",
   "execution_count": 195,
   "metadata": {},
   "outputs": [
    {
     "data": {
      "text/plain": [
       "80"
      ]
     },
     "execution_count": 195,
     "metadata": {},
     "output_type": "execute_result"
    }
   ],
   "source": [
    "# multiplicación\n",
    "n * m"
   ]
  },
  {
   "cell_type": "code",
   "execution_count": 198,
   "metadata": {},
   "outputs": [
    {
     "data": {
      "text/plain": [
       "256"
      ]
     },
     "execution_count": 198,
     "metadata": {},
     "output_type": "execute_result"
    }
   ],
   "source": [
    "# exponenciación\n",
    "n ** 2"
   ]
  },
  {
   "cell_type": "code",
   "execution_count": 201,
   "metadata": {},
   "outputs": [
    {
     "data": {
      "text/plain": [
       "3.2"
      ]
     },
     "execution_count": 201,
     "metadata": {},
     "output_type": "execute_result"
    }
   ],
   "source": [
    "n / m"
   ]
  },
  {
   "cell_type": "code",
   "execution_count": 202,
   "metadata": {},
   "outputs": [
    {
     "data": {
      "text/plain": [
       "1"
      ]
     },
     "execution_count": 202,
     "metadata": {},
     "output_type": "execute_result"
    }
   ],
   "source": [
    "# “Modulo” obtienes el residuo de dividir n entre m\n",
    "n % m"
   ]
  },
  {
   "cell_type": "code",
   "execution_count": 203,
   "metadata": {},
   "outputs": [
    {
     "data": {
      "text/plain": [
       "3"
      ]
     },
     "execution_count": 203,
     "metadata": {},
     "output_type": "execute_result"
    }
   ],
   "source": [
    "# división entera, descarta el residuo y devuelve el entero\n",
    "n // m"
   ]
  },
  {
   "cell_type": "code",
   "execution_count": 204,
   "metadata": {},
   "outputs": [
    {
     "data": {
      "text/plain": [
       "3.2"
      ]
     },
     "execution_count": 204,
     "metadata": {},
     "output_type": "execute_result"
    }
   ],
   "source": [
    "# division decimal\n",
    "n / m"
   ]
  },
  {
   "cell_type": "markdown",
   "metadata": {},
   "source": [
    "# Condicionales"
   ]
  },
  {
   "cell_type": "code",
   "execution_count": 212,
   "metadata": {},
   "outputs": [
    {
     "name": "stdout",
     "output_type": "stream",
     "text": [
      "ok\n"
     ]
    }
   ],
   "source": [
    "x = -1\n",
    "if x <= 20:\n",
    "    print('ok')\n",
    "elif x > 20 and x <= 100:\n",
    "    print('focos rojos')\n",
    "else:\n",
    "    print('catstrofe')"
   ]
  },
  {
   "cell_type": "markdown",
   "metadata": {},
   "source": [
    "# >> Tarea: crear un programa que pregunte un número y diga si es par o impar"
   ]
  }
